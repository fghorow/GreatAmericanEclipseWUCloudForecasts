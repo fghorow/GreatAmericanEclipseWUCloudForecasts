{
 "cells": [
  {
   "cell_type": "markdown",
   "metadata": {},
   "source": [
    "**What the heck is this?**\n",
    "\n",
    "I'm starting to obsess about cloud cover at my selected locations for the Great American Eclipse next week. I've got hotel rooms booked in two different places, and will cancel/go-to one depending on the forecast weather conditions for the time of the eclipse.\n",
    "\n",
    "As I write this text, we are entering into the 10-day time window where weather forecasts start having some \"skill\" (i.e. a better chance than random of being right). In particular, the website [Weather Underground](https://www.wunderground.com) has hourly forecasts available for 10 days. But, in all honesty, it's a real pain to scroll through their website to find the eclipse time cloud coverage forecast for my list of cities of interest.\n",
    "\n",
    "So, what's a lazy geek to do?\n",
    "\n",
    "It turns out that WUnderground has an API, and keys to access the data are free/gratis for relatively infrequent requests to their infrastructure. \n",
    "\n",
    "**SCORE!**\n",
    "\n",
    "So, I wrote this here quick-and-dirty Python 3 code in this here Jupyter notebook to query Weather Underground's infrastructure for my locations of interest, and simply print out the cloud coverage forecast for each location.\n",
    "\n",
    "What do you need to use this code yourself? Mostly, a [Weather Underground API key](https://www.wunderground.com/weather/api/d/pricing.html) enabled for their \"Anvil\" plan at the \"Devloper\" level. That enables you to use their infrastructure without stealing website hits from anyone else. Enter your key as a string into the **API_KEY** variable a couple of cells below\n",
    "\n",
    "Then, you need to populate the *locs* list a few cells below with the locations **you** care about. Make sure the times in the cell above that are accurate for your circumstances. The run the cells below this one in sequence, and the final one will print out the cloud coverage forecasts for the places you care about.\n",
    "\n",
    "It should go without saying that the forecasts are from Weather Underground, not me. My code only makes accessing their results more simple than scrolling through their website.\n",
    "\n",
    "This is a hack. This is only a hack.\n",
    "\n",
    "**I wish you the best of luck in your quest to see the eclipse, but take no responsibility for your use of Weather Underground's forecasts or this convenience code hack. Period. Full Stop.**\n"
   ]
  },
  {
   "cell_type": "code",
   "execution_count": 1,
   "metadata": {
    "collapsed": true
   },
   "outputs": [],
   "source": [
    "import requests"
   ]
  },
  {
   "cell_type": "code",
   "execution_count": 6,
   "metadata": {
    "collapsed": true
   },
   "outputs": [],
   "source": [
    "API_KEY = 'Replace This String With YOUR Api key.'\n",
    "#EXAMPLE DOES NOT WORK TO MY KNOWLEDGE\n",
    "#API_KEY = '0123456789abcdef'"
   ]
  },
  {
   "cell_type": "code",
   "execution_count": 3,
   "metadata": {},
   "outputs": [],
   "source": [
    "def getEclipseCloudForecast(loc_state,loc_city,tz,API_KEY):\n",
    "    r_str = 'http://api.wunderground.com/api/'+API_KEY+'/hourly10day/q/'+loc_state+'/'+loc_city+'.json'\n",
    "    data = requests.get(r_str).json()\n",
    "    t_array= data['hourly_forecast']\n",
    "    if tz == 'EDT':\n",
    "        toi = '1:00 PM EDT on August 21, 2017'\n",
    "    else:\n",
    "        toi = '12:00 PM CDT on August 21, 2017'\n",
    "        \n",
    "    t_ret = [t for t in t_array if t['FCTTIME']['pretty'] == toi][0]\n",
    "    print(loc_city+',', loc_state+':', t_ret['condition']+',', t_ret['sky']+'%')"
   ]
  },
  {
   "cell_type": "code",
   "execution_count": 4,
   "metadata": {
    "collapsed": true
   },
   "outputs": [],
   "source": [
    "locs = [('TN','Knoxville','EDT'),\n",
    "        ('KY','Louisville','EDT'),\n",
    "        ('TN','Gallatin','CDT')\n",
    "       ]"
   ]
  },
  {
   "cell_type": "code",
   "execution_count": 5,
   "metadata": {},
   "outputs": [
    {
     "name": "stdout",
     "output_type": "stream",
     "text": [
      "Knoxville, TN: Partly Cloudy, 32%\n",
      "Louisville, KY: Partly Cloudy, 32%\n",
      "Gallatin, TN: Clear, 22%\n"
     ]
    }
   ],
   "source": [
    "for st,city,tz in locs:\n",
    "    getEclipseCloudForecast(st,city,tz,API_KEY)"
   ]
  },
  {
   "cell_type": "code",
   "execution_count": null,
   "metadata": {
    "collapsed": true
   },
   "outputs": [],
   "source": []
  }
 ],
 "metadata": {
  "kernelspec": {
   "display_name": "Python 3",
   "language": "python",
   "name": "python3"
  },
  "language_info": {
   "codemirror_mode": {
    "name": "ipython",
    "version": 3
   },
   "file_extension": ".py",
   "mimetype": "text/x-python",
   "name": "python",
   "nbconvert_exporter": "python",
   "pygments_lexer": "ipython3",
   "version": "3.6.1"
  }
 },
 "nbformat": 4,
 "nbformat_minor": 2
}
